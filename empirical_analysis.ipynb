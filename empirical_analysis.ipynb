{
 "cells": [
  {
   "cell_type": "code",
   "execution_count": 1,
   "metadata": {},
   "outputs": [],
   "source": [
    "from funcs import *\n",
    "import pandas as pd\n",
    "import numpy as np"
   ]
  },
  {
   "cell_type": "code",
   "execution_count": 2,
   "metadata": {},
   "outputs": [
    {
     "name": "stdout",
     "output_type": "stream",
     "text": [
      "\n",
      "   WordFrequency Array built. Creating framework...\n",
      "\n",
      "     Done!\n"
     ]
    }
   ],
   "source": [
    "path = \"sampleData200k.txt\"\n",
    "\n",
    "wf_array = get_wordfrequencies(path)\n",
    "\n",
    "if wf_array:\n",
    "    print(\"\\n   WordFrequency Array built. Creating framework...\\n\")\n",
    "\n",
    "    start_values = [2000,5000,10000,20000,30000,40000,50000]\n",
    "    incr_percent = 0.10\n",
    "\n",
    "    subset_1 = TestFrameWork(wf_array=wf_array[:60000], starts=start_values, incr=incr_percent)\n",
    "    subset_2 = TestFrameWork(wf_array=wf_array[60000:120000], starts=start_values, incr=incr_percent)\n",
    "    subset_3 = TestFrameWork(wf_array=wf_array[120000:180000], starts=start_values, incr=incr_percent)\n",
    "    print(\"     Done!\")\n",
    "\n",
    "    \n",
    "\n",
    "   "
   ]
  },
  {
   "cell_type": "code",
   "execution_count": 3,
   "metadata": {},
   "outputs": [
    {
     "name": "stdout",
     "output_type": "stream",
     "text": [
      "Getting list results across all increments...\n",
      "Getting hashtable results across all increments...\n",
      "Getting tst results across all increments...\n"
     ]
    }
   ],
   "source": [
    "# GROWTH ANALYSIS\n",
    "growth_df = pd.DataFrame()\n",
    "implementations = [\"list\", \"hashtable\", \"tst\"]\n",
    "\n",
    "growth_results = []\n",
    "\n",
    "for implementation in implementations:\n",
    "    print(f\"Getting {implementation} results across all increments...\")\n",
    "    results_subset1 = subset_1.grow_analysis(implementation)\n",
    "    results_subset2 = subset_2.grow_analysis(implementation)\n",
    "    results_subset3 = subset_3.grow_analysis(implementation)\n",
    "\n",
    "    results_avg = {start:0 for start in start_values} # keys of increment, default vlaue of 0 (we will add later)\n",
    "\n",
    "    for key in results_avg.keys():\n",
    "        avg = np.mean([results_subset1[key], results_subset2[key], results_subset3[key]])\n",
    "        results_avg[key] = avg\n",
    "    \n",
    "    growth_results.append({str(implementation): results_avg})\n",
    "\n",
    "growth_df[\"StartSize\"] = start_values\n",
    "\n",
    "for my_dict in growth_results:\n",
    "    for implementation_type, starts in my_dict.items():\n",
    "        growth_df[implementation_type] = starts.values()"
   ]
  },
  {
   "cell_type": "code",
   "execution_count": 5,
   "metadata": {},
   "outputs": [
    {
     "data": {
      "text/html": [
       "<div>\n",
       "<style scoped>\n",
       "    .dataframe tbody tr th:only-of-type {\n",
       "        vertical-align: middle;\n",
       "    }\n",
       "\n",
       "    .dataframe tbody tr th {\n",
       "        vertical-align: top;\n",
       "    }\n",
       "\n",
       "    .dataframe thead th {\n",
       "        text-align: right;\n",
       "    }\n",
       "</style>\n",
       "<table border=\"1\" class=\"dataframe\">\n",
       "  <thead>\n",
       "    <tr style=\"text-align: right;\">\n",
       "      <th></th>\n",
       "      <th>StartSize</th>\n",
       "      <th>list</th>\n",
       "      <th>hashtable</th>\n",
       "      <th>tst</th>\n",
       "    </tr>\n",
       "  </thead>\n",
       "  <tbody>\n",
       "    <tr>\n",
       "      <th>0</th>\n",
       "      <td>2000</td>\n",
       "      <td>0.000040</td>\n",
       "      <td>0.000000e+00</td>\n",
       "      <td>0.000007</td>\n",
       "    </tr>\n",
       "    <tr>\n",
       "      <th>1</th>\n",
       "      <td>5000</td>\n",
       "      <td>0.000110</td>\n",
       "      <td>6.678899e-07</td>\n",
       "      <td>0.000007</td>\n",
       "    </tr>\n",
       "    <tr>\n",
       "      <th>2</th>\n",
       "      <td>10000</td>\n",
       "      <td>0.000221</td>\n",
       "      <td>3.337065e-07</td>\n",
       "      <td>0.000007</td>\n",
       "    </tr>\n",
       "    <tr>\n",
       "      <th>3</th>\n",
       "      <td>20000</td>\n",
       "      <td>0.000439</td>\n",
       "      <td>5.004009e-07</td>\n",
       "      <td>0.000007</td>\n",
       "    </tr>\n",
       "    <tr>\n",
       "      <th>4</th>\n",
       "      <td>30000</td>\n",
       "      <td>0.000673</td>\n",
       "      <td>1.112090e-07</td>\n",
       "      <td>0.000007</td>\n",
       "    </tr>\n",
       "  </tbody>\n",
       "</table>\n",
       "</div>"
      ],
      "text/plain": [
       "   StartSize      list     hashtable       tst\n",
       "0       2000  0.000040  0.000000e+00  0.000007\n",
       "1       5000  0.000110  6.678899e-07  0.000007\n",
       "2      10000  0.000221  3.337065e-07  0.000007\n",
       "3      20000  0.000439  5.004009e-07  0.000007\n",
       "4      30000  0.000673  1.112090e-07  0.000007"
      ]
     },
     "execution_count": 5,
     "metadata": {},
     "output_type": "execute_result"
    }
   ],
   "source": [
    "growth_df.head()"
   ]
  },
  {
   "cell_type": "code",
   "execution_count": 4,
   "metadata": {},
   "outputs": [
    {
     "name": "stdout",
     "output_type": "stream",
     "text": [
      "Getting list results across all increments...\n",
      "Getting hashtable results across all increments...\n",
      "Getting tst results across all increments...\n"
     ]
    }
   ],
   "source": [
    " # SHRINK ANALYSIS\n",
    "shrink_df = pd.DataFrame()\n",
    "implementations = [\"list\", \"hashtable\", \"tst\"]\n",
    "\n",
    "shrink_results = []\n",
    "\n",
    "for implementation in implementations:\n",
    "    print(f\"Getting {implementation} results across all increments...\")\n",
    "    results_subset1 = subset_1.shrink_analysis(implementation)\n",
    "    results_subset2 = subset_2.shrink_analysis(implementation)\n",
    "    results_subset3 = subset_3.shrink_analysis(implementation)\n",
    "\n",
    "    results_avg = {start:0 for start in start_values} # keys of increment, default vlaue of 0 (we will add later)\n",
    "\n",
    "    for key in results_avg.keys():\n",
    "        avg = np.mean([results_subset1[key], results_subset2[key], results_subset3[key]])\n",
    "        results_avg[key] = avg\n",
    "    \n",
    "    shrink_results.append({str(implementation): results_avg})\n",
    "\n",
    "shrink_df[\"StartSize\"] = start_values\n",
    "\n",
    "for my_dict in shrink_results:\n",
    "    for implementation_type, starts in my_dict.items():\n",
    "        shrink_df[implementation_type] = starts.values()"
   ]
  },
  {
   "cell_type": "code",
   "execution_count": 6,
   "metadata": {},
   "outputs": [
    {
     "data": {
      "text/html": [
       "<div>\n",
       "<style scoped>\n",
       "    .dataframe tbody tr th:only-of-type {\n",
       "        vertical-align: middle;\n",
       "    }\n",
       "\n",
       "    .dataframe tbody tr th {\n",
       "        vertical-align: top;\n",
       "    }\n",
       "\n",
       "    .dataframe thead th {\n",
       "        text-align: right;\n",
       "    }\n",
       "</style>\n",
       "<table border=\"1\" class=\"dataframe\">\n",
       "  <thead>\n",
       "    <tr style=\"text-align: right;\">\n",
       "      <th></th>\n",
       "      <th>StartSize</th>\n",
       "      <th>list</th>\n",
       "      <th>hashtable</th>\n",
       "      <th>tst</th>\n",
       "    </tr>\n",
       "  </thead>\n",
       "  <tbody>\n",
       "    <tr>\n",
       "      <th>6</th>\n",
       "      <td>50000</td>\n",
       "      <td>0.001366</td>\n",
       "      <td>4.003684e-07</td>\n",
       "      <td>0.000004</td>\n",
       "    </tr>\n",
       "    <tr>\n",
       "      <th>5</th>\n",
       "      <td>40000</td>\n",
       "      <td>0.001074</td>\n",
       "      <td>3.336271e-07</td>\n",
       "      <td>0.000003</td>\n",
       "    </tr>\n",
       "    <tr>\n",
       "      <th>4</th>\n",
       "      <td>30000</td>\n",
       "      <td>0.000784</td>\n",
       "      <td>4.448891e-07</td>\n",
       "      <td>0.000003</td>\n",
       "    </tr>\n",
       "    <tr>\n",
       "      <th>3</th>\n",
       "      <td>20000</td>\n",
       "      <td>0.000518</td>\n",
       "      <td>3.336668e-07</td>\n",
       "      <td>0.000003</td>\n",
       "    </tr>\n",
       "    <tr>\n",
       "      <th>2</th>\n",
       "      <td>10000</td>\n",
       "      <td>0.000261</td>\n",
       "      <td>3.337065e-07</td>\n",
       "      <td>0.000003</td>\n",
       "    </tr>\n",
       "  </tbody>\n",
       "</table>\n",
       "</div>"
      ],
      "text/plain": [
       "   StartSize      list     hashtable       tst\n",
       "6      50000  0.001366  4.003684e-07  0.000004\n",
       "5      40000  0.001074  3.336271e-07  0.000003\n",
       "4      30000  0.000784  4.448891e-07  0.000003\n",
       "3      20000  0.000518  3.336668e-07  0.000003\n",
       "2      10000  0.000261  3.337065e-07  0.000003"
      ]
     },
     "execution_count": 6,
     "metadata": {},
     "output_type": "execute_result"
    }
   ],
   "source": [
    "shrink_df.sort_values(by=\"StartSize\", ascending=False, inplace=True)\n",
    "shrink_df.head()"
   ]
  },
  {
   "cell_type": "code",
   "execution_count": 25,
   "metadata": {},
   "outputs": [
    {
     "name": "stdout",
     "output_type": "stream",
     "text": [
      "Getting list results across all increments...\n",
      "Getting hashtable results across all increments...\n",
      "Getting tst results across all increments...\n"
     ]
    }
   ],
   "source": [
    " # STATIC ANALYSIS\n",
    "static_df_search = pd.DataFrame()\n",
    "static_df_autocomplete = pd.DataFrame()\n",
    "implementations = [\"list\", \"hashtable\", \"tst\"]\n",
    "\n",
    "static_results_search = []\n",
    "static_results_autocomplete = []\n",
    "runs=50\n",
    "\n",
    "sizes = [\"Small\", \"Medium\", \"Large\"]\n",
    "\n",
    "for implementation in implementations:\n",
    "    print(f\"Getting {implementation} results across all increments...\")\n",
    "    results_subset1 = subset_1.static_analysis(implementation, runs=runs)\n",
    "    results_subset2 = subset_2.static_analysis(implementation, runs=runs)\n",
    "    results_subset3 = subset_3.static_analysis(implementation, runs=runs)\n",
    "\n",
    "    results_avg_search = {size:0 for size in sizes} # keys of increment, default vlaue of 0 (we will add later)\n",
    "    results_avg_autocomplete = {size:0 for size in sizes} # keys of increment, default vlaue of 0 (we will add later)\n",
    "\n",
    "    for key in results_avg_search.keys():\n",
    "        search_avg = np.mean([results_subset1[0][key], results_subset2[0][key], results_subset3[0][key]])\n",
    "        autocomplete_avg = np.mean([results_subset1[1][key], results_subset2[1][key], results_subset3[1][key]])\n",
    "        results_avg_search[key] = search_avg\n",
    "        results_avg_autocomplete[key] = autocomplete_avg\n",
    "    \n",
    "    static_results_search.append({str(implementation): results_avg_search})\n",
    "    static_results_autocomplete.append({str(implementation): results_avg_autocomplete})\n",
    "\n",
    "for my_dict in static_results_search:\n",
    "    for implementation_type, starts in my_dict.items():\n",
    "        static_df_search[implementation_type] = starts.values()\n",
    "\n",
    "for my_dict in static_results_autocomplete:\n",
    "    for implementation_type, starts in my_dict.items():\n",
    "        static_df_autocomplete[implementation_type] = starts.values()\n",
    "\n"
   ]
  },
  {
   "cell_type": "code",
   "execution_count": 26,
   "metadata": {},
   "outputs": [
    {
     "data": {
      "text/html": [
       "<div>\n",
       "<style scoped>\n",
       "    .dataframe tbody tr th:only-of-type {\n",
       "        vertical-align: middle;\n",
       "    }\n",
       "\n",
       "    .dataframe tbody tr th {\n",
       "        vertical-align: top;\n",
       "    }\n",
       "\n",
       "    .dataframe thead th {\n",
       "        text-align: right;\n",
       "    }\n",
       "</style>\n",
       "<table border=\"1\" class=\"dataframe\">\n",
       "  <thead>\n",
       "    <tr style=\"text-align: right;\">\n",
       "      <th></th>\n",
       "      <th>list_search</th>\n",
       "      <th>hashtable_search</th>\n",
       "      <th>tst_search</th>\n",
       "    </tr>\n",
       "  </thead>\n",
       "  <tbody>\n",
       "    <tr>\n",
       "      <th>0</th>\n",
       "      <td>0.000450</td>\n",
       "      <td>0.0</td>\n",
       "      <td>0.000000</td>\n",
       "    </tr>\n",
       "    <tr>\n",
       "      <th>1</th>\n",
       "      <td>0.000653</td>\n",
       "      <td>0.0</td>\n",
       "      <td>0.000000</td>\n",
       "    </tr>\n",
       "    <tr>\n",
       "      <th>2</th>\n",
       "      <td>0.001509</td>\n",
       "      <td>0.0</td>\n",
       "      <td>0.000013</td>\n",
       "    </tr>\n",
       "  </tbody>\n",
       "</table>\n",
       "</div>"
      ],
      "text/plain": [
       "   list_search  hashtable_search  tst_search\n",
       "0     0.000450               0.0    0.000000\n",
       "1     0.000653               0.0    0.000000\n",
       "2     0.001509               0.0    0.000013"
      ]
     },
     "execution_count": 26,
     "metadata": {},
     "output_type": "execute_result"
    }
   ],
   "source": [
    "static_df_search.rename(columns={static_df_search.columns[0]: 'list_search'}, inplace=True)\n",
    "static_df_search.rename(columns={static_df_search.columns[1]: 'hashtable_search'}, inplace=True)\n",
    "static_df_search.rename(columns={static_df_search.columns[2]: 'tst_search'}, inplace=True)\n",
    "\n",
    "static_df_search.head()"
   ]
  },
  {
   "cell_type": "code",
   "execution_count": 27,
   "metadata": {},
   "outputs": [
    {
     "data": {
      "text/html": [
       "<div>\n",
       "<style scoped>\n",
       "    .dataframe tbody tr th:only-of-type {\n",
       "        vertical-align: middle;\n",
       "    }\n",
       "\n",
       "    .dataframe tbody tr th {\n",
       "        vertical-align: top;\n",
       "    }\n",
       "\n",
       "    .dataframe thead th {\n",
       "        text-align: right;\n",
       "    }\n",
       "</style>\n",
       "<table border=\"1\" class=\"dataframe\">\n",
       "  <thead>\n",
       "    <tr style=\"text-align: right;\">\n",
       "      <th></th>\n",
       "      <th>list_autocomplete</th>\n",
       "      <th>hashtable_autocomplete</th>\n",
       "      <th>tst_autocomplete</th>\n",
       "    </tr>\n",
       "  </thead>\n",
       "  <tbody>\n",
       "    <tr>\n",
       "      <th>0</th>\n",
       "      <td>0.001256</td>\n",
       "      <td>0.001228</td>\n",
       "      <td>0.040947</td>\n",
       "    </tr>\n",
       "    <tr>\n",
       "      <th>1</th>\n",
       "      <td>0.001896</td>\n",
       "      <td>0.001852</td>\n",
       "      <td>0.063641</td>\n",
       "    </tr>\n",
       "    <tr>\n",
       "      <th>2</th>\n",
       "      <td>0.003875</td>\n",
       "      <td>0.003827</td>\n",
       "      <td>0.123173</td>\n",
       "    </tr>\n",
       "  </tbody>\n",
       "</table>\n",
       "</div>"
      ],
      "text/plain": [
       "   list_autocomplete  hashtable_autocomplete  tst_autocomplete\n",
       "0           0.001256                0.001228          0.040947\n",
       "1           0.001896                0.001852          0.063641\n",
       "2           0.003875                0.003827          0.123173"
      ]
     },
     "execution_count": 27,
     "metadata": {},
     "output_type": "execute_result"
    }
   ],
   "source": [
    "static_df_autocomplete.rename(columns={static_df_autocomplete.columns[0]: 'list_autocomplete'}, inplace=True)\n",
    "static_df_autocomplete.rename(columns={static_df_autocomplete.columns[1]: 'hashtable_autocomplete'}, inplace=True)\n",
    "static_df_autocomplete.rename(columns={static_df_autocomplete.columns[2]: 'tst_autocomplete'}, inplace=True)\n",
    "\n",
    "static_df_autocomplete.head()"
   ]
  },
  {
   "cell_type": "code",
   "execution_count": 28,
   "metadata": {},
   "outputs": [
    {
     "data": {
      "text/html": [
       "<div>\n",
       "<style scoped>\n",
       "    .dataframe tbody tr th:only-of-type {\n",
       "        vertical-align: middle;\n",
       "    }\n",
       "\n",
       "    .dataframe tbody tr th {\n",
       "        vertical-align: top;\n",
       "    }\n",
       "\n",
       "    .dataframe thead th {\n",
       "        text-align: right;\n",
       "    }\n",
       "</style>\n",
       "<table border=\"1\" class=\"dataframe\">\n",
       "  <thead>\n",
       "    <tr style=\"text-align: right;\">\n",
       "      <th></th>\n",
       "      <th>Size</th>\n",
       "      <th>list_search</th>\n",
       "      <th>hashtable_search</th>\n",
       "      <th>tst_search</th>\n",
       "      <th>list_autocomplete</th>\n",
       "      <th>hashtable_autocomplete</th>\n",
       "      <th>tst_autocomplete</th>\n",
       "    </tr>\n",
       "  </thead>\n",
       "  <tbody>\n",
       "    <tr>\n",
       "      <th>0</th>\n",
       "      <td>Small</td>\n",
       "      <td>0.000450</td>\n",
       "      <td>0.0</td>\n",
       "      <td>0.000000</td>\n",
       "      <td>0.001256</td>\n",
       "      <td>0.001228</td>\n",
       "      <td>0.040947</td>\n",
       "    </tr>\n",
       "    <tr>\n",
       "      <th>1</th>\n",
       "      <td>Medium</td>\n",
       "      <td>0.000653</td>\n",
       "      <td>0.0</td>\n",
       "      <td>0.000000</td>\n",
       "      <td>0.001896</td>\n",
       "      <td>0.001852</td>\n",
       "      <td>0.063641</td>\n",
       "    </tr>\n",
       "    <tr>\n",
       "      <th>2</th>\n",
       "      <td>Large</td>\n",
       "      <td>0.001509</td>\n",
       "      <td>0.0</td>\n",
       "      <td>0.000013</td>\n",
       "      <td>0.003875</td>\n",
       "      <td>0.003827</td>\n",
       "      <td>0.123173</td>\n",
       "    </tr>\n",
       "  </tbody>\n",
       "</table>\n",
       "</div>"
      ],
      "text/plain": [
       "     Size  list_search  hashtable_search  tst_search  list_autocomplete  \\\n",
       "0   Small     0.000450               0.0    0.000000           0.001256   \n",
       "1  Medium     0.000653               0.0    0.000000           0.001896   \n",
       "2   Large     0.001509               0.0    0.000013           0.003875   \n",
       "\n",
       "   hashtable_autocomplete  tst_autocomplete  \n",
       "0                0.001228          0.040947  \n",
       "1                0.001852          0.063641  \n",
       "2                0.003827          0.123173  "
      ]
     },
     "execution_count": 28,
     "metadata": {},
     "output_type": "execute_result"
    }
   ],
   "source": [
    "static_df = pd.concat([static_df_search, static_df_autocomplete], axis=1)\n",
    "static_df.insert(0, \"Size\", [\"Small\", \"Medium\", \"Large\"])\n",
    "\n",
    "static_df.head()"
   ]
  },
  {
   "cell_type": "code",
   "execution_count": 29,
   "metadata": {},
   "outputs": [],
   "source": [
    "growth_df.to_csv(\"growth_results.csv\")\n",
    "shrink_df.to_csv(\"shrink_results.csv\")\n",
    "static_df.to_csv(\"static_results.csv\")"
   ]
  },
  {
   "cell_type": "code",
   "execution_count": null,
   "metadata": {},
   "outputs": [],
   "source": []
  }
 ],
 "metadata": {
  "interpreter": {
   "hash": "2647ea34e536f865ab67ff9ddee7fd78773d956cec0cab53c79b32cd10da5d83"
  },
  "kernelspec": {
   "display_name": "Python 3.9.11 64-bit",
   "language": "python",
   "name": "python3"
  },
  "language_info": {
   "codemirror_mode": {
    "name": "ipython",
    "version": 3
   },
   "file_extension": ".py",
   "mimetype": "text/x-python",
   "name": "python",
   "nbconvert_exporter": "python",
   "pygments_lexer": "ipython3",
   "version": "3.9.11"
  },
  "orig_nbformat": 4
 },
 "nbformat": 4,
 "nbformat_minor": 2
}
